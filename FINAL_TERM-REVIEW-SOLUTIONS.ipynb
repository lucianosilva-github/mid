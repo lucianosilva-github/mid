{
  "nbformat": 4,
  "nbformat_minor": 0,
  "metadata": {
    "colab": {
      "provenance": [],
      "authorship_tag": "ABX9TyMaQ2S6ZnUUILzLnxo2y7Yt",
      "include_colab_link": true
    },
    "kernelspec": {
      "name": "python3",
      "display_name": "Python 3"
    },
    "language_info": {
      "name": "python"
    }
  },
  "cells": [
    {
      "cell_type": "markdown",
      "metadata": {
        "id": "view-in-github",
        "colab_type": "text"
      },
      "source": [
        "<a href=\"https://colab.research.google.com/github/lucianosilva-github/mid/blob/main/FINAL_TERM-REVIEW-SOLUTIONS.ipynb\" target=\"_parent\"><img src=\"https://colab.research.google.com/assets/colab-badge.svg\" alt=\"Open In Colab\"/></a>"
      ]
    },
    {
      "cell_type": "markdown",
      "source": [
        "**LOGIC AND DISCRETE MATHEMATICS - FINAL TERM REVIEW**"
      ],
      "metadata": {
        "id": "38qy_v-mj8pm"
      }
    },
    {
      "cell_type": "markdown",
      "source": [
        "**NAME:**"
      ],
      "metadata": {
        "id": "dkGm2w0EkGI8"
      }
    },
    {
      "cell_type": "markdown",
      "source": [
        "**QUESTION 1 (2.0 POINTS):** Consider the set of quaternion numbers C={a+bi+cj+dk}. Specify this set using **lambdas** e implement them in Python."
      ],
      "metadata": {
        "id": "wnKJuE-3kKuV"
      }
    },
    {
      "cell_type": "code",
      "source": [
        "quaternion=lambda a:lambda b:lambda c: lambda d: (a,b,c,d)\n",
        "quaternion=lambda a, b, c, d: (a,b,c,d)\n",
        "\n",
        "quaternion(1,2.5,3,4.8)"
      ],
      "metadata": {
        "id": "m_D3LmbokU9x",
        "colab": {
          "base_uri": "https://localhost:8080/"
        },
        "outputId": "81772259-d06d-4cc6-9775-046456c146df"
      },
      "execution_count": 8,
      "outputs": [
        {
          "output_type": "execute_result",
          "data": {
            "text/plain": [
              "(1, 2.5, 3, 4.8)"
            ]
          },
          "metadata": {},
          "execution_count": 8
        }
      ]
    },
    {
      "cell_type": "markdown",
      "source": [
        "**QUESTION 2 (2.0 POINTS):** Provide an algebraic specification for BOOLEAN and implement it in Python."
      ],
      "metadata": {
        "id": "qREpJTWJkiNp"
      }
    },
    {
      "cell_type": "markdown",
      "source": [
        "SPEC BOOL\n",
        "\n",
        "  SORTS BOOL\n",
        "\n",
        "OPERATIONS\n",
        "\n",
        "  new: -> BOOL\n",
        "\n",
        "  not: BOOL -> BOOL\n",
        "\n",
        "\n",
        "AXIOMS\n",
        "\n",
        "not(not(x))=x ∀x ∈ BOOL\n"
      ],
      "metadata": {
        "id": "RVFX4pHqk33d"
      }
    },
    {
      "cell_type": "code",
      "source": [
        "from dataclasses import dataclass\n",
        "\n",
        "\n",
        "@dataclass\n",
        "class BOOL:\n",
        "    \n",
        "    def __init__(self,b):\n",
        "    #operation new   \n",
        "      self.boolean=b\n",
        "\n",
        "    def notop(b):\n",
        "      return BOOL (not(b.boolean))\n",
        "\n",
        "b=BOOL(True)\n",
        "\n",
        "assert BOOL.notop(BOOL.notop(b))==b\n"
      ],
      "metadata": {
        "id": "Pfnnh_a4kzcX"
      },
      "execution_count": 20,
      "outputs": []
    },
    {
      "cell_type": "markdown",
      "source": [
        "**QUESTION 3 (2.0 POINTS):** Consider the following list implementation in ML:"
      ],
      "metadata": {
        "id": "YIM9zD1mk-Ur"
      }
    },
    {
      "cell_type": "code",
      "source": [
        "!apt-get install smlnj"
      ],
      "metadata": {
        "id": "mlTkKIJqlZbx",
        "colab": {
          "base_uri": "https://localhost:8080/"
        },
        "outputId": "fb36d172-4f71-444c-ffd6-909e35c900db"
      },
      "execution_count": 21,
      "outputs": [
        {
          "output_type": "stream",
          "name": "stdout",
          "text": [
            "Reading package lists... Done\n",
            "Building dependency tree       \n",
            "Reading state information... Done\n",
            "The following additional packages will be installed:\n",
            "  libsmlnj-smlnj smlnj-runtime\n",
            "Suggested packages:\n",
            "  smlnj-doc\n",
            "The following NEW packages will be installed:\n",
            "  libsmlnj-smlnj smlnj smlnj-runtime\n",
            "0 upgraded, 3 newly installed, 0 to remove and 24 not upgraded.\n",
            "Need to get 6,398 kB of archives.\n",
            "After this operation, 28.0 MB of additional disk space will be used.\n",
            "Get:1 http://archive.ubuntu.com/ubuntu focal/universe amd64 smlnj-runtime amd64 110.79-6 [129 kB]\n",
            "Get:2 http://archive.ubuntu.com/ubuntu focal/universe amd64 smlnj amd64 110.79-6 [5,788 kB]\n",
            "Get:3 http://archive.ubuntu.com/ubuntu focal/universe amd64 libsmlnj-smlnj amd64 110.79-6 [481 kB]\n",
            "Fetched 6,398 kB in 0s (14.7 MB/s)\n",
            "Selecting previously unselected package smlnj-runtime.\n",
            "(Reading database ... 122518 files and directories currently installed.)\n",
            "Preparing to unpack .../smlnj-runtime_110.79-6_amd64.deb ...\n",
            "Unpacking smlnj-runtime (110.79-6) ...\n",
            "Selecting previously unselected package smlnj.\n",
            "Preparing to unpack .../smlnj_110.79-6_amd64.deb ...\n",
            "Unpacking smlnj (110.79-6) ...\n",
            "Selecting previously unselected package libsmlnj-smlnj.\n",
            "Preparing to unpack .../libsmlnj-smlnj_110.79-6_amd64.deb ...\n",
            "Unpacking libsmlnj-smlnj (110.79-6) ...\n",
            "Setting up smlnj-runtime (110.79-6) ...\n",
            "Setting up smlnj (110.79-6) ...\n",
            "Setting up libsmlnj-smlnj (110.79-6) ...\n",
            "Processing triggers for man-db (2.9.1-1) ...\n"
          ]
        }
      ]
    },
    {
      "cell_type": "code",
      "source": [
        "%%writefile list.sml\n",
        "\n",
        "datatype intlist =  Nil \n",
        "                  | Cons of (int * intlist)\n",
        "\n",
        "val list1 = Nil \t\t            (* the empty list:  []*)\n",
        "val list2 = Cons(1,Nil) \t      (* the list containing just 1:  [1] *)\n",
        "val list3 = Cons(2,Cons(1,Nil)) (* the list [2,1] *)\n",
        "val list4 = Cons(2,list2)       (* also the list [2,1] *)\n",
        "\n",
        "fun length(lst: intlist): int =\n",
        "  case lst of\n",
        "              Nil => 0\n",
        "              Cons(h,t) => 1 + length(t)\n"
      ],
      "metadata": {
        "id": "QAJ5gjAqlgPK",
        "colab": {
          "base_uri": "https://localhost:8080/"
        },
        "outputId": "3ecc0207-d870-4d97-f83c-05d0d8d27614"
      },
      "execution_count": 22,
      "outputs": [
        {
          "output_type": "stream",
          "name": "stdout",
          "text": [
            "Writing list.sml\n"
          ]
        }
      ]
    },
    {
      "cell_type": "markdown",
      "source": [
        "Consider also the tree implementation in ML:"
      ],
      "metadata": {
        "id": "yC10MDP0lyF5"
      }
    },
    {
      "cell_type": "code",
      "source": [
        "%%writefile tree.sml\n",
        "\n",
        "datatype inttree = Empty \n",
        "                   | Node of { value: int, left: inttree, right: inttree }\n",
        "\n",
        "tree= Node {value = 2, \n",
        "            left = Node {value=1, left = Empty, right = Empty},\n",
        "            right= Node {value=3, left = Empty, right = Empty}}\n",
        "     \n"
      ],
      "metadata": {
        "id": "ySOBbW_yl38C"
      },
      "execution_count": null,
      "outputs": []
    },
    {
      "cell_type": "markdown",
      "source": [
        "Refactor the datatype intlist to use Node instead of Cons to build a list."
      ],
      "metadata": {
        "id": "sk_9N2odmBEL"
      }
    },
    {
      "cell_type": "code",
      "source": [
        "%%writefile list.sml\n",
        "\n",
        "datatype intlist =  Nil \n",
        "                  | Node of { value: int, left: inttree, right: inttree }\n",
        "\n",
        "val list1 = Nil \t\t                                  (* the empty list:  []*)\n",
        "val list2 = Node {vale=1, left=Nil, Right=Nil}\t      (* the list containing just 1:  [1] *)\n",
        "val list3 = Node {vale=2, left=Nil, Right=list2}\t      (* the list containing :  [2,1] *)"
      ],
      "metadata": {
        "id": "f4KLp5X6mK59"
      },
      "execution_count": null,
      "outputs": []
    },
    {
      "cell_type": "markdown",
      "source": [
        "**QUESTION 4 (2.0 POINTS):** Here we have a proof that $\\sum_{i=0}^n i = 1+2+3+...+n = \\frac{n(n+1)}{2}$, using the Z3 Solver:"
      ],
      "metadata": {
        "id": "VMKifYchmTmj"
      }
    },
    {
      "cell_type": "code",
      "source": [
        "!pip install z3-solver"
      ],
      "metadata": {
        "id": "kN0fiBINmx8U",
        "colab": {
          "base_uri": "https://localhost:8080/"
        },
        "outputId": "01f5f1bf-88c9-46da-dafa-aa3ae5c760dc"
      },
      "execution_count": 24,
      "outputs": [
        {
          "output_type": "stream",
          "name": "stdout",
          "text": [
            "Looking in indexes: https://pypi.org/simple, https://us-python.pkg.dev/colab-wheels/public/simple/\n",
            "Collecting z3-solver\n",
            "  Downloading z3_solver-4.12.1.0-py2.py3-none-manylinux1_x86_64.whl (56.0 MB)\n",
            "\u001b[2K     \u001b[90m━━━━━━━━━━━━━━━━━━━━━━━━━━━━━━━━━━━━━━━━\u001b[0m \u001b[32m56.0/56.0 MB\u001b[0m \u001b[31m9.0 MB/s\u001b[0m eta \u001b[36m0:00:00\u001b[0m\n",
            "\u001b[?25hInstalling collected packages: z3-solver\n",
            "Successfully installed z3-solver-4.12.1.0\n"
          ]
        }
      ]
    },
    {
      "cell_type": "code",
      "source": [
        "from z3 import *\n",
        "\n",
        "#defining sumn\n",
        "n = Int(\"n\")\n",
        "sumn = Function(\"sumn\", IntSort(), IntSort())\n",
        "s = Solver()\n",
        "s.add(sumn(0) == 0)\n",
        "s.add(ForAll([n], sumn(n+1) == (n + 1) + sumn(n)))\n",
        "\n",
        "#try to find a counterexample of the sum\n",
        "s.add(Not(ForAll([n], Implies(n >= 0, 2 * sumn(n) == n * (n + 1)))))\n",
        "s.check()"
      ],
      "metadata": {
        "id": "ux6MAbgfm3i2",
        "colab": {
          "base_uri": "https://localhost:8080/",
          "height": 34
        },
        "outputId": "640fad1d-bbc3-40a2-d761-6f729d5b338d"
      },
      "execution_count": 25,
      "outputs": [
        {
          "output_type": "execute_result",
          "data": {
            "text/plain": [
              "unknown"
            ],
            "text/html": [
              "<b>unknown</b>"
            ]
          },
          "metadata": {},
          "execution_count": 25
        }
      ]
    },
    {
      "cell_type": "markdown",
      "source": [
        "Prove that $\\binom{2n}{n}<2^{2n-2}$ for all $n\\ge 5$, using the binomial definition $\\binom{n}{k}=\\frac{n!}{k!(n-k)!}$ and the fact $\\binom{n+1}{n}=\\binom{n}{n}+\\binom{n}{n-1}$."
      ],
      "metadata": {
        "id": "3WVIQnLPm8In"
      }
    },
    {
      "cell_type": "code",
      "source": [
        "from z3 import *\n",
        "\n",
        "#defining bin\n",
        "n = Int(\"n\")\n",
        "bin = Function(\"bin\", IntSort(), IntSort())\n",
        "s = Solver()\n",
        "s.add(bin(5)< 2**8)\n",
        "s.add(ForAll([n], bin(n+1)==bin(n)+bin(n)))\n",
        "\n",
        "#try to find a counterexample of the sum\n",
        "s.add(Not(ForAll([n], Implies(n >= 5, bin(2*n) < 2*(2*n-2)))))\n",
        "s.check()"
      ],
      "metadata": {
        "id": "hpQJd2j5oN7i",
        "colab": {
          "base_uri": "https://localhost:8080/",
          "height": 34
        },
        "outputId": "f48ba59c-e72d-4016-f0ff-79a91fbd6c4e"
      },
      "execution_count": 29,
      "outputs": [
        {
          "output_type": "execute_result",
          "data": {
            "text/plain": [
              "unknown"
            ],
            "text/html": [
              "<b>unknown</b>"
            ]
          },
          "metadata": {},
          "execution_count": 29
        }
      ]
    },
    {
      "cell_type": "markdown",
      "source": [
        "**QUESTION 5 (2.0 POINTS):** Consider the following recurrence relation:\n",
        "\n",
        "* T(0)=0\n",
        "* T(n)=2+T(n-1), n>0\n",
        "\n",
        "This recurrence relation can be solved by the following code:"
      ],
      "metadata": {
        "id": "PGSQHM3coR1M"
      }
    },
    {
      "cell_type": "code",
      "source": [
        "from sympy import *\n",
        "T = Function('T')\n",
        "n = symbols('n',integer=True)\n",
        "f = T(n)-2-T(n-1)\n",
        "rsolve(f,T(n),{T(0):0})"
      ],
      "metadata": {
        "id": "0xtzEeTopEzH"
      },
      "execution_count": null,
      "outputs": []
    },
    {
      "cell_type": "markdown",
      "source": [
        "Consider the following recursive program:"
      ],
      "metadata": {
        "id": "h5TVmQVYpKU3"
      }
    },
    {
      "cell_type": "code",
      "source": [
        "def fib(n):\n",
        "  if n==0 or n==1:\n",
        "    return 1\n",
        "  else:\n",
        "    return fib(n-1)+fib(n-2)\n",
        "\n",
        "fib(5)\n",
        "     \n"
      ],
      "metadata": {
        "id": "-px4gVmdpPSW"
      },
      "execution_count": null,
      "outputs": []
    },
    {
      "cell_type": "markdown",
      "source": [
        "Write down the number of arithmetical operations needed to compuyter fib(n) as a recurrence relation and solve it:"
      ],
      "metadata": {
        "id": "OmIFrwQapWsF"
      }
    },
    {
      "cell_type": "code",
      "source": [
        "# RECURRENSE RELATION\n",
        "# T(0)=T(1)=0\n",
        "# T(n)= 3+T(n-1)+T(n-2)\n",
        "\n",
        "from sympy import *\n",
        "T = Function('T')\n",
        "n = symbols('n',integer=True)\n",
        "f = T(n)-3-T(n-1)-T(n-2)\n",
        "rsolve(f,T(n),{T(0):0,T(1):0})"
      ],
      "metadata": {
        "id": "GTEi8SZopj5o",
        "colab": {
          "base_uri": "https://localhost:8080/",
          "height": 69
        },
        "outputId": "be43aba5-2be6-4f85-f0a4-e52e402e3217"
      },
      "execution_count": 30,
      "outputs": [
        {
          "output_type": "execute_result",
          "data": {
            "text/plain": [
              "(1/2 - sqrt(5)/2)**n*(3/2 - 3*sqrt(5)/10) + (1/2 + sqrt(5)/2)**n*(3*sqrt(5)/10 + 3/2) - 3"
            ],
            "text/latex": "$\\displaystyle \\left(\\frac{1}{2} - \\frac{\\sqrt{5}}{2}\\right)^{n} \\left(\\frac{3}{2} - \\frac{3 \\sqrt{5}}{10}\\right) + \\left(\\frac{1}{2} + \\frac{\\sqrt{5}}{2}\\right)^{n} \\left(\\frac{3 \\sqrt{5}}{10} + \\frac{3}{2}\\right) - 3$"
          },
          "metadata": {},
          "execution_count": 30
        }
      ]
    }
  ]
}